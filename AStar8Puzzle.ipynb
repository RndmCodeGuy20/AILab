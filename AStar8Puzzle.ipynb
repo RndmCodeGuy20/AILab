{
 "cells": [
  {
   "cell_type": "code",
   "execution_count": 87,
   "metadata": {},
   "outputs": [],
   "source": [
    "InitialState = [\n",
    "    [2, 3, 4],\n",
    "    [None, 1, 5],\n",
    "    [6, 7, 8],\n",
    "]\n",
    "\n",
    "FinalState = [\n",
    "    [2, 4, None],\n",
    "    [1, 3, 5],\n",
    "    [6, 7, 8],\n",
    "]"
   ]
  },
  {
   "cell_type": "code",
   "execution_count": 10,
   "metadata": {},
   "outputs": [
    {
     "data": {
      "text/plain": [
       "4"
      ]
     },
     "execution_count": 10,
     "metadata": {},
     "output_type": "execute_result"
    }
   ],
   "source": [
    "def H1_MisplacedTiles(tempState: list) -> int:\n",
    "    count = 0\n",
    "    for i in range(3):\n",
    "        for j in range(3):\n",
    "            if tempState[i][j] != FinalState[i][j]:\n",
    "                count += 1\n",
    "\n",
    "    return count\n",
    "\n",
    "H1_MisplacedTiles(InitialState)"
   ]
  },
  {
   "cell_type": "code",
   "execution_count": null,
   "metadata": {},
   "outputs": [],
   "source": []
  },
  {
   "cell_type": "code",
   "execution_count": 19,
   "metadata": {},
   "outputs": [
    {
     "name": "stdout",
     "output_type": "stream",
     "text": [
      "2 <class 'int'>\n",
      "4 <class 'int'>\n",
      "None <class 'int'>\n",
      "1 <class 'int'>\n",
      "3 <class 'int'>\n",
      "5 <class 'int'>\n",
      "6 <class 'int'>\n",
      "7 <class 'int'>\n",
      "8 <class 'int'>\n"
     ]
    }
   ],
   "source": [
    "indexFinalDict = {\n",
    "    2: [0, 0],\n",
    "    4: [0, 1],\n",
    "    None: [0, 2],\n",
    "    1: [1, 0],\n",
    "    3: [1, 1],\n",
    "    5: [1, 2],\n",
    "    6: [2, 0],\n",
    "    7: [2, 1],\n",
    "    8: [2, 2],\n",
    "}\n",
    "\n",
    "for key in indexFinalDict:\n",
    "    print(key, type(indexFinalDict[key][0]))"
   ]
  },
  {
   "cell_type": "code",
   "execution_count": 26,
   "metadata": {},
   "outputs": [
    {
     "data": {
      "text/plain": [
       "6"
      ]
     },
     "execution_count": 26,
     "metadata": {},
     "output_type": "execute_result"
    }
   ],
   "source": [
    "indexFinalDict = {\n",
    "    2: [0, 0],\n",
    "    4: [0, 1],\n",
    "    None: [0, 2],\n",
    "    1: [1, 0],\n",
    "    3: [1, 1],\n",
    "    5: [1, 2],\n",
    "    6: [2, 0],\n",
    "    7: [2, 1],\n",
    "    8: [2, 2],\n",
    "}\n",
    "\n",
    "\n",
    "def H2_ManhattanDistance(tempState: list) -> int:\n",
    "    ManhattanDist = 0\n",
    "    for key in indexFinalDict:\n",
    "        for row in range(3):\n",
    "            for col in range(3):\n",
    "                if tempState[row][col] == key and indexFinalDict[key] != [row, col]:\n",
    "                    ManhattanDist += (abs(indexFinalDict[key][0] - row) + abs(indexFinalDict[key][1] - col))\n",
    "\n",
    "    return ManhattanDist\n",
    "\n",
    "H2_ManhattanDistance(InitialState)"
   ]
  },
  {
   "cell_type": "code",
   "execution_count": 40,
   "metadata": {},
   "outputs": [
    {
     "name": "stdout",
     "output_type": "stream",
     "text": [
      "11\n",
      "7\n",
      "13\n",
      "10\n"
     ]
    }
   ],
   "source": [
    "frontier = []\n",
    "stateInfo = []\n",
    "\n",
    "def moveBlankUp(puzzleState):\n",
    "    tempState = [[0, 0, 0], [0, 0, 0], [0, 0, 0]]\n",
    "    temp = 0\n",
    "    for row in range(3):\n",
    "        for col in range(3):\n",
    "            tempState[row][col] = puzzleState[row][col]\n",
    "\n",
    "    for row in range(3):\n",
    "        for col in range(3):\n",
    "            if tempState[row][col] == None and row != 0:\n",
    "                temp = tempState[row - 1][col]\n",
    "                tempState[row - 1][col] = tempState[row][col]\n",
    "                tempState[row][col] = temp\n",
    "                break\n",
    "\n",
    "    return tempState\n",
    "\n",
    "intermitt = moveBlankUp(InitialState)\n",
    "\n",
    "frontier.append([intermitt, H1_MisplacedTiles(intermitt) + H2_ManhattanDistance(intermitt)])\n",
    "\n",
    "def moveBlankRight(puzzleState):\n",
    "    tempState = [[0, 0, 0], [0, 0, 0], [0, 0, 0]]\n",
    "    temp = 0\n",
    "    for row in range(3):\n",
    "        for col in range(3):\n",
    "            tempState[row][col] = puzzleState[row][col]\n",
    "\n",
    "    for row in range(3):\n",
    "        for col in range(3):\n",
    "            if tempState[row][col] == None and col != 2:\n",
    "                temp = tempState[row][col + 1]\n",
    "                tempState[row][col + 1] = tempState[row][col]\n",
    "                tempState[row][col] = temp\n",
    "                break\n",
    "\n",
    "    return tempState\n",
    "\n",
    "intermitt = moveBlankRight(InitialState)\n",
    "\n",
    "stateInfo = []\n",
    "\n",
    "frontier.append([intermitt, H1_MisplacedTiles(intermitt) + H2_ManhattanDistance(intermitt)])\n",
    "\n",
    "def moveBlankDown(puzzleState):\n",
    "    tempState = [[0, 0, 0], [0, 0, 0], [0, 0, 0]]\n",
    "    temp = 0\n",
    "    for row in range(3):\n",
    "        for col in range(3):\n",
    "            tempState[row][col] = puzzleState[row][col]\n",
    "\n",
    "    for row in range(3):\n",
    "        for col in range(3):\n",
    "            if tempState[row][col] == None and row != 2:\n",
    "                temp = tempState[row + 1][col]\n",
    "                tempState[row + 1][col] = tempState[row][col]\n",
    "                tempState[row][col] = temp\n",
    "                break\n",
    "\n",
    "    return tempState\n",
    "\n",
    "\n",
    "intermitt = moveBlankDown(InitialState)\n",
    "\n",
    "stateInfo = []\n",
    "\n",
    "frontier.append([intermitt, H1_MisplacedTiles(intermitt) + H2_ManhattanDistance(intermitt)])\n",
    "\n",
    "def moveBlankLeft(puzzleState):\n",
    "    tempState = [[0, 0, 0], [0, 0, 0], [0, 0, 0]]\n",
    "    temp = 0\n",
    "    for row in range(3):\n",
    "        for col in range(3):\n",
    "            tempState[row][col] = puzzleState[row][col]\n",
    "\n",
    "    for row in range(3):\n",
    "        for col in range(3):\n",
    "            if tempState[row][col] == None and col != 0:\n",
    "                temp = tempState[row][col - 1]\n",
    "                tempState[row][col - 1] = tempState[row][col]\n",
    "                tempState[row][col] = temp\n",
    "                break\n",
    "\n",
    "    return tempState\n",
    "\n",
    "intermitt = moveBlankLeft(InitialState)\n",
    "\n",
    "stateInfo = []\n",
    "\n",
    "frontier.append([intermitt, H1_MisplacedTiles(intermitt) + H2_ManhattanDistance(intermitt)])\n",
    "\n"
   ]
  },
  {
   "cell_type": "code",
   "execution_count": 84,
   "metadata": {},
   "outputs": [
    {
     "data": {
      "text/plain": [
       "[[[[2, 3, 4], [1, None, 5], [6, 7, 8]], 7],\n",
       " [[[2, 3, 4], [None, 1, 5], [6, 7, 8]], 10],\n",
       " [[[2, 3, 4], [None, 1, 5], [6, 7, 8]], 10],\n",
       " [[[None, 3, 4], [2, 1, 5], [6, 7, 8]], 11],\n",
       " [[[2, 3, 4], [6, 1, 5], [None, 7, 8]], 13]]"
      ]
     },
     "execution_count": 84,
     "metadata": {},
     "output_type": "execute_result"
    }
   ],
   "source": [
    "frontier.sort(key= lambda heur: heur[1])\n",
    "\n",
    "frontier"
   ]
  },
  {
   "cell_type": "code",
   "execution_count": 82,
   "metadata": {},
   "outputs": [
    {
     "data": {
      "text/plain": [
       "[[[2, 3, 4], [None, 1, 5], [6, 7, 8]], 10]"
      ]
     },
     "execution_count": 82,
     "metadata": {},
     "output_type": "execute_result"
    }
   ],
   "source": [
    "frontier[0]"
   ]
  },
  {
   "cell_type": "code",
   "execution_count": 67,
   "metadata": {},
   "outputs": [
    {
     "data": {
      "text/plain": [
       "[[[2, 3, 4], [None, 1, 5], [6, 7, 8]], 10]"
      ]
     },
     "execution_count": 67,
     "metadata": {},
     "output_type": "execute_result"
    }
   ],
   "source": [
    "def H1_MisplacedTiles(tempState: list) -> int:\n",
    "    count = 0\n",
    "    for i in range(3):\n",
    "        for j in range(3):\n",
    "            if tempState[i][j] != FinalState[i][j]:\n",
    "                count += 1\n",
    "\n",
    "    return count\n",
    "\n",
    "frontier = []\n",
    "frontier.append([InitialState, H1_MisplacedTiles(InitialState) + H2_ManhattanDistance(InitialState)])\n",
    "\n",
    "intermitt = moveBlankLeft(InitialState)\n",
    "frontier.append([intermitt, H1_MisplacedTiles(intermitt) + H2_ManhattanDistance(intermitt)])\n",
    "\n",
    "intermitt = moveBlankRight(InitialState)\n",
    "frontier.append([intermitt, H1_MisplacedTiles(intermitt) + H2_ManhattanDistance(intermitt)])\n",
    "\n",
    "intermitt = moveBlankDown(InitialState)\n",
    "frontier.append([intermitt, H1_MisplacedTiles(intermitt) + H2_ManhattanDistance(intermitt)])\n",
    "\n",
    "intermitt = moveBlankUp(InitialState)\n",
    "frontier.append([intermitt, H1_MisplacedTiles(intermitt) + H2_ManhattanDistance(intermitt)])\n",
    "\n",
    "# frontier.sort(key=frontier)\n",
    "frontier[1]"
   ]
  },
  {
   "cell_type": "code",
   "execution_count": 88,
   "metadata": {},
   "outputs": [
    {
     "name": "stdout",
     "output_type": "stream",
     "text": [
      "[[2, 3, 4], [None, 1, 5], [6, 7, 8]]\n",
      "[[2, 3, 4], [1, None, 5], [6, 7, 8]]\n",
      "[[2, None, 4], [1, 3, 5], [6, 7, 8]]\n",
      "[[2, 4, None], [1, 3, 5], [6, 7, 8]]\n",
      "Goal State : [[2, 4, None], [1, 3, 5], [6, 7, 8]] reached after searching 12 nodes.\n"
     ]
    }
   ],
   "source": [
    "frontier = []\n",
    "explored = []\n",
    "count = 0\n",
    "\n",
    "frontier.append([InitialState, H1_MisplacedTiles(InitialState) + H2_ManhattanDistance(InitialState)])\n",
    "explored.append(InitialState)\n",
    "\n",
    "while len(frontier) != 0:\n",
    "    frontier.sort(key= lambda heur: heur[1])\n",
    "    InitialState = frontier.pop(0)[0]\n",
    "    print(f\"{InitialState}\")\n",
    "\n",
    "    if InitialState == FinalState:\n",
    "        print(f\"Goal State : {InitialState} reached after searching {count} nodes.\")\n",
    "        break\n",
    "\n",
    "    intermitt = moveBlankLeft(InitialState)\n",
    "    frontier.append([intermitt, H1_MisplacedTiles(intermitt) + H2_ManhattanDistance(intermitt)])\n",
    "    count += 1\n",
    "\n",
    "    intermitt = moveBlankRight(InitialState)\n",
    "    frontier.append([intermitt, H1_MisplacedTiles(intermitt) + H2_ManhattanDistance(intermitt)])\n",
    "    count += 1\n",
    "\n",
    "    intermitt = moveBlankDown(InitialState)\n",
    "    frontier.append([intermitt, H1_MisplacedTiles(intermitt) + H2_ManhattanDistance(intermitt)])\n",
    "    count += 1\n",
    "\n",
    "    intermitt = moveBlankUp(InitialState)\n",
    "    frontier.append([intermitt, H1_MisplacedTiles(intermitt) + H2_ManhattanDistance(intermitt)])\n",
    "    count += 1"
   ]
  },
  {
   "cell_type": "code",
   "execution_count": null,
   "metadata": {},
   "outputs": [],
   "source": [
    "\n",
    "def moveBlankUp(puzzleState):\n",
    "    tempState = [[0, 0, 0], [0, 0, 0], [0, 0, 0]]\n",
    "    temp = 0\n",
    "    for row in range(3):\n",
    "        for col in range(3):\n",
    "            tempState[row][col] = puzzleState[row][col]\n",
    "\n",
    "    for row in range(3):\n",
    "        for col in range(3):\n",
    "            if tempState[row][col] == None and row != 0:\n",
    "                temp = tempState[row - 1][col]\n",
    "                tempState[row - 1][col] = tempState[row][col]\n",
    "                tempState[row][col] = temp\n",
    "                break\n",
    "\n",
    "    return tempState\n",
    "\n",
    "\n",
    "def moveBlankRight(puzzleState):\n",
    "    tempState = [[0, 0, 0], [0, 0, 0], [0, 0, 0]]\n",
    "    temp = 0\n",
    "    for row in range(3):\n",
    "        for col in range(3):\n",
    "            tempState[row][col] = puzzleState[row][col]\n",
    "\n",
    "    for row in range(3):\n",
    "        for col in range(3):\n",
    "            if tempState[row][col] == None and col != 2:\n",
    "                temp = tempState[row][col + 1]\n",
    "                tempState[row][col + 1] = tempState[row][col]\n",
    "                tempState[row][col] = temp\n",
    "                break\n",
    "\n",
    "    return tempState\n",
    "\n",
    "\n",
    "def moveBlankDown(puzzleState):\n",
    "    tempState = [[0, 0, 0], [0, 0, 0], [0, 0, 0]]\n",
    "    temp = 0\n",
    "    for row in range(3):\n",
    "        for col in range(3):\n",
    "            tempState[row][col] = puzzleState[row][col]\n",
    "\n",
    "    for row in range(3):\n",
    "        for col in range(3):\n",
    "            if tempState[row][col] == None and row != 2:\n",
    "                temp = tempState[row + 1][col]\n",
    "                tempState[row + 1][col] = tempState[row][col]\n",
    "                tempState[row][col] = temp\n",
    "                break\n",
    "\n",
    "    return tempState\n",
    "\n",
    "\n",
    "def moveBlankLeft(puzzleState):\n",
    "    tempState = [[0, 0, 0], [0, 0, 0], [0, 0, 0]]\n",
    "    temp = 0\n",
    "    for row in range(3):\n",
    "        for col in range(3):\n",
    "            tempState[row][col] = puzzleState[row][col]\n",
    "\n",
    "    for row in range(3):\n",
    "        for col in range(3):\n",
    "            if tempState[row][col] == None and col != 0:\n",
    "                temp = tempState[row][col - 1]\n",
    "                tempState[row][col - 1] = tempState[row][col]\n",
    "                tempState[row][col] = temp\n",
    "                break\n",
    "\n",
    "    return tempState\n",
    "\n",
    "\n",
    "frontier = []\n",
    "explored = []\n",
    "count = 0\n",
    "\n",
    "frontier.append(InitialState)\n",
    "explored.append(InitialState)\n",
    "\n",
    "while len(frontier) != 0:\n",
    "    InitialState = frontier.pop(0)\n",
    "    print(f\"{InitialState}\")\n",
    "\n",
    "    if InitialState == FinalState:\n",
    "        print(f\"Goal State : {InitialState} reached after searching {count} nodes.\")\n",
    "        break\n",
    "\n",
    "    # if moveBlankLeft(InitialState) not in explored:\n",
    "    #     frontier.append(moveBlankLeft(InitialState))\n",
    "    #     explored.append(moveBlankLeft(InitialState))\n",
    "    #     count += 1\n",
    "\n",
    "    # if moveBlankRight(InitialState) not in explored:\n",
    "    #     frontier.append(moveBlankRight(InitialState))\n",
    "    #     explored.append(moveBlankRight(InitialState))\n",
    "    #     count += 1\n",
    "\n",
    "    # if moveBlankUp(InitialState) not in explored:\n",
    "    #     frontier.append(moveBlankUp(InitialState))\n",
    "    #     explored.append(moveBlankUp(InitialState))\n",
    "    #     count += 1\n",
    "\n",
    "    # if moveBlankDown(InitialState) not in explored:\n",
    "    #     frontier.append(moveBlankDown(InitialState))\n",
    "    #     explored.append(moveBlankDown(InitialState))\n",
    "    #     count += 1\n"
   ]
  },
  {
   "cell_type": "code",
   "execution_count": null,
   "metadata": {},
   "outputs": [],
   "source": []
  }
 ],
 "metadata": {
  "kernelspec": {
   "display_name": "Python 3.9.7 64-bit",
   "language": "python",
   "name": "python3"
  },
  "language_info": {
   "name": "python",
   "version": "3.9.7"
  },
  "orig_nbformat": 4,
  "vscode": {
   "interpreter": {
    "hash": "81794d4967e6c3204c66dcd87b604927b115b27c00565d3d43f05ba2f3a2cb0d"
   }
  }
 },
 "nbformat": 4,
 "nbformat_minor": 2
}
