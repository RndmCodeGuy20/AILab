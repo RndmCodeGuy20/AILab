{
 "cells": [
  {
   "cell_type": "markdown",
   "metadata": {},
   "source": []
  },
  {
   "cell_type": "code",
   "execution_count": 1,
   "metadata": {},
   "outputs": [
    {
     "name": "stdout",
     "output_type": "stream",
     "text": [
      "['o', '-', 'x']\n",
      "['x', 'o', '-']\n",
      "['x', 'o', 'o']\n"
     ]
    }
   ],
   "source": [
    "board = [\n",
    "    [\"o\", \"-\", \"x\"],\n",
    "    [\"x\", \"o\", \"-\"],\n",
    "    [\"x\", \"o\", \"o\"],\n",
    "]\n",
    "\n",
    "initBoard = [\n",
    "    [\"0,0\", \"0,1\", \"0,2\"],\n",
    "    [\"1,0\", \"1,1\", \"1,2\"],\n",
    "    [\"2,0\", \"2,1\", \"2,2\"],\n",
    "]\n",
    "\n",
    "winner = \"-\"\n",
    "for i in board:\n",
    "   print(i)"
   ]
  },
  {
   "cell_type": "code",
   "execution_count": null,
   "metadata": {},
   "outputs": [],
   "source": [
    "# Let us take 'x' as max and 'o' as min, and consider first chance of 'x'."
   ]
  },
  {
   "cell_type": "code",
   "execution_count": 2,
   "metadata": {},
   "outputs": [],
   "source": [
    "\n",
    "def checkWin(board):\n",
    "    # Check horizontal win\n",
    "    winner = \"-\"\n",
    "\n",
    "    for i in board:\n",
    "        winner = i[0]\n",
    "        for j in i:\n",
    "            if j != winner:\n",
    "                winner = \"-\"\n",
    "                break\n",
    "        if winner != \"-\":\n",
    "            return winner\n",
    "\n",
    "    # Check vertical win\n",
    "    winner = \"-\"\n",
    "\n",
    "    for i in range(3):\n",
    "        winner = board[0][i]\n",
    "        for j in range(0, 3):\n",
    "            if winner != board[j][i]:\n",
    "                winner = \"-\"\n",
    "                break\n",
    "        if winner != \"-\":\n",
    "            return winner\n",
    "\n",
    "    # Check diagonal win\n",
    "    winner = board[0][0]\n",
    "\n",
    "    for i in range(3):\n",
    "        for j in range(3):\n",
    "            if winner != board[i][i]:\n",
    "                winner = \"-\"\n",
    "                break\n",
    "    if winner != \"-\":\n",
    "        return winner\n",
    "\n",
    "    winner = board[0][2]\n",
    "\n",
    "    for i in range(3):\n",
    "        for j in range(3):\n",
    "            if i + j == 2:\n",
    "                if winner != board[i][j]:\n",
    "                    winner = \"-\"\n",
    "                    break\n",
    "    if winner != \"-\":\n",
    "        return winner\n"
   ]
  },
  {
   "cell_type": "code",
   "execution_count": 3,
   "metadata": {},
   "outputs": [],
   "source": [
    "def isBoardFull():\n",
    "    numDash = 9\n",
    "    for i in board:\n",
    "        for j in i:\n",
    "            if j != \"-\":\n",
    "                numDash = numDash - 1\n",
    "    return numDash\n",
    "\n",
    "\n",
    "def printBoard():\n",
    "    for i in board:\n",
    "        print(i, end=\"\\n\")\n",
    "    print(\"\\n\")"
   ]
  },
  {
   "cell_type": "code",
   "execution_count": 4,
   "metadata": {},
   "outputs": [
    {
     "data": {
      "text/plain": [
       "[['o', 'x', 'x'], ['x', 'o', '-'], ['x', 'o', 'o']]"
      ]
     },
     "execution_count": 4,
     "metadata": {},
     "output_type": "execute_result"
    }
   ],
   "source": [
    "queue = []\n",
    "\n",
    "def MinMax(board, curr, i, j):\n",
    "    global queue\n",
    "    tempBoard = [\n",
    "        [\"-\", \"-\", \"-\"],\n",
    "        [\"-\", \"-\", \"-\"],\n",
    "        [\"-\", \"-\", \"-\"],\n",
    "    ]\n",
    "\n",
    "    for row in range(3):\n",
    "        for col in range(3):\n",
    "            tempBoard[row][col] = board[row][col]\n",
    "\n",
    "    tempBoard[i][j] = curr\n",
    "    if checkWin(tempBoard) == curr:\n",
    "        queue.append([tempBoard, 10])\n",
    "    elif checkWin(tempBoard) == 'o':\n",
    "        queue.append([tempBoard, -10])\n",
    "    else:\n",
    "        queue.append([tempBoard, 0])\n",
    "\n",
    "    \n",
    "\n",
    "def computerMove(board, currPlayer):\n",
    "    tempBoard = [\n",
    "        [\"-\", \"-\", \"-\"],\n",
    "        [\"-\", \"-\", \"-\"],\n",
    "        [\"-\", \"-\", \"-\"],\n",
    "    ]\n",
    "\n",
    "    for row in range(3):\n",
    "        for col in range(3):\n",
    "            tempBoard[row][col] = board[row][col]\n",
    "\n",
    "    for row in range(3):\n",
    "        for col in range(3):\n",
    "            if tempBoard[row][col] == '-':\n",
    "                MinMax(tempBoard, currPlayer, row, col)\n",
    "\n",
    "    queue.sort(key=lambda x: x[1], reverse=True)\n",
    "    board = queue.pop(0)[0]\n",
    "    \n",
    "    return board\n",
    "\n",
    "\n",
    "computerMove(board, 'x')\n"
   ]
  }
 ],
 "metadata": {
  "kernelspec": {
   "display_name": "Python 3.9.7 64-bit",
   "language": "python",
   "name": "python3"
  },
  "language_info": {
   "codemirror_mode": {
    "name": "ipython",
    "version": 3
   },
   "file_extension": ".py",
   "mimetype": "text/x-python",
   "name": "python",
   "nbconvert_exporter": "python",
   "pygments_lexer": "ipython3",
   "version": "3.9.7"
  },
  "orig_nbformat": 4,
  "vscode": {
   "interpreter": {
    "hash": "81794d4967e6c3204c66dcd87b604927b115b27c00565d3d43f05ba2f3a2cb0d"
   }
  }
 },
 "nbformat": 4,
 "nbformat_minor": 2
}
