{
 "cells": [
  {
   "cell_type": "code",
   "execution_count": 47,
   "metadata": {},
   "outputs": [
    {
     "name": "stdout",
     "output_type": "stream",
     "text": [
      "['o', '-', 'x']\n",
      "['x', 'o', '-']\n",
      "['x', 'o', 'o']\n"
     ]
    }
   ],
   "source": [
    "board = [\n",
    "    [\"o\", \"-\", \"x\"],\n",
    "    [\"x\", \"o\", \"-\"],\n",
    "    [\"x\", \"o\", \"o\"],\n",
    "]\n",
    "\n",
    "initBoard = [\n",
    "    [\"0,0\", \"0,1\", \"0,2\"],\n",
    "    [\"1,0\", \"1,1\", \"1,2\"],\n",
    "    [\"2,0\", \"2,1\", \"2,2\"],\n",
    "]\n",
    "\n",
    "winner = \"-\"\n",
    "for i in board:\n",
    "   print(i)"
   ]
  },
  {
   "cell_type": "code",
   "execution_count": 2,
   "metadata": {},
   "outputs": [
    {
     "name": "stdout",
     "output_type": "stream",
     "text": [
      "o\n",
      "-\n",
      "x\n",
      "x\n",
      "-\n",
      "-\n",
      "x\n",
      "o\n",
      "o\n"
     ]
    }
   ],
   "source": [
    "for row in range(3):\n",
    "    for col in range(3):\n",
    "        print(board[row][col])"
   ]
  },
  {
   "cell_type": "code",
   "execution_count": null,
   "metadata": {},
   "outputs": [],
   "source": [
    "# Let us take 'x' as max and 'o' as min, and consider first chance of 'x'."
   ]
  },
  {
   "cell_type": "code",
   "execution_count": 3,
   "metadata": {},
   "outputs": [],
   "source": [
    "\n",
    "def checkWin(board):\n",
    "    # Check horizontal win\n",
    "    winner = \"-\"\n",
    "\n",
    "    for i in board:\n",
    "        winner = i[0]\n",
    "        for j in i:\n",
    "            if j != winner:\n",
    "                winner = \"-\"\n",
    "                break\n",
    "        if winner != \"-\":\n",
    "            return winner\n",
    "\n",
    "    # Check vertical win\n",
    "    winner = \"-\"\n",
    "\n",
    "    for i in range(3):\n",
    "        winner = board[0][i]\n",
    "        for j in range(0, 3):\n",
    "            if winner != board[j][i]:\n",
    "                winner = \"-\"\n",
    "                break\n",
    "        if winner != \"-\":\n",
    "            return winner\n",
    "\n",
    "    # Check diagonal win\n",
    "    winner = board[0][0]\n",
    "\n",
    "    for i in range(3):\n",
    "        for j in range(3):\n",
    "            if winner != board[i][i]:\n",
    "                winner = \"-\"\n",
    "                break\n",
    "    if winner != \"-\":\n",
    "        return winner\n",
    "\n",
    "    winner = board[0][2]\n",
    "\n",
    "    for i in range(3):\n",
    "        for j in range(3):\n",
    "            if i + j == 2:\n",
    "                if winner != board[i][j]:\n",
    "                    winner = \"-\"\n",
    "                    break\n",
    "    if winner != \"-\":\n",
    "        return winner\n"
   ]
  },
  {
   "cell_type": "code",
   "execution_count": 9,
   "metadata": {},
   "outputs": [],
   "source": [
    "def isBoardFull():\n",
    "    numDash = 9\n",
    "    for i in board:\n",
    "        for j in i:\n",
    "            if j != \"-\":\n",
    "                numDash = numDash - 1\n",
    "    return numDash\n",
    "\n",
    "\n",
    "def printBoard():\n",
    "    for i in board:\n",
    "        print(i, end=\"\\n\")\n",
    "    print(\"\\n\")"
   ]
  },
  {
   "cell_type": "code",
   "execution_count": 43,
   "metadata": {},
   "outputs": [
    {
     "data": {
      "text/plain": [
       "[['o', 'x', 'x'], ['x', 'o', '-'], ['x', 'o', 'o']]"
      ]
     },
     "execution_count": 43,
     "metadata": {},
     "output_type": "execute_result"
    }
   ],
   "source": [
    "queue = []\n",
    "\n",
    "def MinMax(board, curr, i, j):\n",
    "    global queue\n",
    "    tempBoard = [\n",
    "        [\"-\", \"-\", \"-\"],\n",
    "        [\"-\", \"-\", \"-\"],\n",
    "        [\"-\", \"-\", \"-\"],\n",
    "    ]\n",
    "\n",
    "    for row in range(3):\n",
    "        for col in range(3):\n",
    "            tempBoard[row][col] = board[row][col]\n",
    "\n",
    "    tempBoard[i][j] = curr\n",
    "    if checkWin(tempBoard) == curr:\n",
    "        queue.append([tempBoard, 10])\n",
    "    elif checkWin(tempBoard) == 'o':\n",
    "        queue.append([tempBoard, -10])\n",
    "    else:\n",
    "        queue.append([tempBoard, 0])\n",
    "\n",
    "    \n",
    "\n",
    "def computerMove(board, currPlayer):\n",
    "    tempBoard = [\n",
    "        [\"-\", \"-\", \"-\"],\n",
    "        [\"-\", \"-\", \"-\"],\n",
    "        [\"-\", \"-\", \"-\"],\n",
    "    ]\n",
    "\n",
    "    for row in range(3):\n",
    "        for col in range(3):\n",
    "            tempBoard[row][col] = board[row][col]\n",
    "\n",
    "    for row in range(3):\n",
    "        for col in range(3):\n",
    "            if tempBoard[row][col] == '-':\n",
    "                MinMax(tempBoard, currPlayer, row, col)\n",
    "\n",
    "    queue.sort(key=lambda x: x[1], reverse=True)\n",
    "    board = queue.pop(0)[0]\n",
    "    \n",
    "    return board\n",
    "\n",
    "\n",
    "computerMove(board, 'x')\n",
    "\n",
    "# queue = []\n",
    "# queue.sort(key=lambda x: x[1], reverse=True)\n",
    "# initBoard = queue.pop(0)[0]\n",
    "# initBoard\n"
   ]
  },
  {
   "cell_type": "markdown",
   "metadata": {},
   "source": [
    "[['o', '-', 'x'], ['x', 'x', '-'], ['x', 'o', 'o']],"
   ]
  },
  {
   "cell_type": "code",
   "execution_count": 48,
   "metadata": {},
   "outputs": [
    {
     "name": "stdout",
     "output_type": "stream",
     "text": [
      "['o', '-', 'x']\n",
      "['x', 'o', '-']\n",
      "['x', 'o', 'o']\n"
     ]
    }
   ],
   "source": [
    "for i in board:\n",
    "   print(i)"
   ]
  },
  {
   "cell_type": "code",
   "execution_count": 49,
   "metadata": {},
   "outputs": [
    {
     "name": "stdout",
     "output_type": "stream",
     "text": [
      "['o', 'x', 'x']\n",
      "['x', 'o', '-']\n",
      "['x', 'o', 'o']\n"
     ]
    }
   ],
   "source": [
    "board = computerMove(board, 'x')\n",
    "for i in board:\n",
    "   print(i)"
   ]
  },
  {
   "cell_type": "code",
   "execution_count": null,
   "metadata": {},
   "outputs": [],
   "source": [
    "# def userMove(board):\n",
    "#     print(f\"Enter Position : \")\n",
    "#     input()"
   ]
  },
  {
   "cell_type": "code",
   "execution_count": 10,
   "metadata": {},
   "outputs": [
    {
     "ename": "IndexError",
     "evalue": "pop from empty list",
     "output_type": "error",
     "traceback": [
      "\u001b[1;31m---------------------------------------------------------------------------\u001b[0m",
      "\u001b[1;31mIndexError\u001b[0m                                Traceback (most recent call last)",
      "\u001b[1;32md:\\AILab\\Min-Max-TTT.ipynb Cell 8\u001b[0m in \u001b[0;36m<cell line: 2>\u001b[1;34m()\u001b[0m\n\u001b[0;32m      <a href='vscode-notebook-cell:/d%3A/AILab/Min-Max-TTT.ipynb#ch0000006?line=1'>2</a>\u001b[0m queue \u001b[39m=\u001b[39m []\n\u001b[0;32m      <a href='vscode-notebook-cell:/d%3A/AILab/Min-Max-TTT.ipynb#ch0000006?line=2'>3</a>\u001b[0m queue\u001b[39m.\u001b[39msort(key\u001b[39m=\u001b[39m\u001b[39mlambda\u001b[39;00m x: x[\u001b[39m1\u001b[39m], reverse\u001b[39m=\u001b[39m\u001b[39mTrue\u001b[39;00m)\n\u001b[1;32m----> <a href='vscode-notebook-cell:/d%3A/AILab/Min-Max-TTT.ipynb#ch0000006?line=3'>4</a>\u001b[0m initBoard \u001b[39m=\u001b[39m queue\u001b[39m.\u001b[39;49mpop(\u001b[39m0\u001b[39;49m)[\u001b[39m0\u001b[39m]\n\u001b[0;32m      <a href='vscode-notebook-cell:/d%3A/AILab/Min-Max-TTT.ipynb#ch0000006?line=5'>6</a>\u001b[0m computerMove(initBoard, \u001b[39m'\u001b[39m\u001b[39mx\u001b[39m\u001b[39m'\u001b[39m)\n\u001b[0;32m      <a href='vscode-notebook-cell:/d%3A/AILab/Min-Max-TTT.ipynb#ch0000006?line=6'>7</a>\u001b[0m printBoard()\n",
      "\u001b[1;31mIndexError\u001b[0m: pop from empty list"
     ]
    }
   ],
   "source": [
    "# while(True):\n",
    "#     queue = []\n",
    "#     queue.sort(key=lambda x: x[1], reverse=True)\n",
    "#     initBoard = queue.pop(0)[0]\n",
    "\n",
    "#     computerMove(initBoard, 'x')\n",
    "#     printBoard()\n",
    "#     move = str(input(\"Enter move : \"))\n",
    "#     move = move.split(\",\")\n",
    "#     initBoard[move[0]][move[1]] = 'o'"
   ]
  },
  {
   "cell_type": "code",
   "execution_count": null,
   "metadata": {},
   "outputs": [],
   "source": []
  }
 ],
 "metadata": {
  "kernelspec": {
   "display_name": "Python 3.9.7 64-bit",
   "language": "python",
   "name": "python3"
  },
  "language_info": {
   "codemirror_mode": {
    "name": "ipython",
    "version": 3
   },
   "file_extension": ".py",
   "mimetype": "text/x-python",
   "name": "python",
   "nbconvert_exporter": "python",
   "pygments_lexer": "ipython3",
   "version": "3.9.7"
  },
  "orig_nbformat": 4,
  "vscode": {
   "interpreter": {
    "hash": "81794d4967e6c3204c66dcd87b604927b115b27c00565d3d43f05ba2f3a2cb0d"
   }
  }
 },
 "nbformat": 4,
 "nbformat_minor": 2
}
