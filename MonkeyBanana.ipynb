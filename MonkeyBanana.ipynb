{
 "cells": [
  {
   "cell_type": "markdown",
   "metadata": {},
   "source": [
    "Monkey Banana Problem"
   ]
  },
  {
   "cell_type": "markdown",
   "metadata": {},
   "source": [
    "![](Assets/Monkey%20banana.png)"
   ]
  },
  {
   "cell_type": "code",
   "execution_count": 15,
   "metadata": {},
   "outputs": [
    {
     "name": "stdout",
     "output_type": "stream",
     "text": [
      "Monkey Coordinates : (10, 10, 10), Chair Status : 1\n"
     ]
    }
   ],
   "source": [
    "class Monkey:\n",
    "    x = 0\n",
    "    y = 0\n",
    "    z = 0\n",
    "    chairStatus = 0\n",
    "    bananaStatus = 0\n",
    "\n",
    "    def __init__(self, x, y, z, chairStatus):\n",
    "        self.x = x\n",
    "        self.y = y\n",
    "        self.z = z\n",
    "        self.chairStatus = chairStatus\n",
    "\n",
    "    def updatePosition(self, x, y, z):\n",
    "        self.x = x\n",
    "        self.y = y\n",
    "        self.z = z\n",
    "\n",
    "monkey = Monkey(10, 10, 10, 1)\n",
    "\n",
    "print(f\"Monkey Coordinates : ({monkey.x}, {monkey.y}, {monkey.z}), Chair Status : {monkey.chairStatus}\")"
   ]
  },
  {
   "cell_type": "code",
   "execution_count": 16,
   "metadata": {},
   "outputs": [
    {
     "name": "stdout",
     "output_type": "stream",
     "text": [
      "Monkey Coordinates : (10, 11, 10), Chair Status : 1\n"
     ]
    }
   ],
   "source": [
    "def moveMonkeyUp():\n",
    "    monkey.y += 1\n",
    "\n",
    "moveMonkeyUp()\n",
    "\n",
    "print(f\"Monkey Coordinates : ({monkey.x}, {monkey.y}, {monkey.z}), Chair Status : {monkey.chairStatus}\")"
   ]
  },
  {
   "cell_type": "code",
   "execution_count": null,
   "metadata": {},
   "outputs": [],
   "source": []
  }
 ],
 "metadata": {
  "kernelspec": {
   "display_name": "Python 3.9.7 64-bit",
   "language": "python",
   "name": "python3"
  },
  "language_info": {
   "codemirror_mode": {
    "name": "ipython",
    "version": 3
   },
   "file_extension": ".py",
   "mimetype": "text/x-python",
   "name": "python",
   "nbconvert_exporter": "python",
   "pygments_lexer": "ipython3",
   "version": "3.9.7"
  },
  "orig_nbformat": 4,
  "vscode": {
   "interpreter": {
    "hash": "81794d4967e6c3204c66dcd87b604927b115b27c00565d3d43f05ba2f3a2cb0d"
   }
  }
 },
 "nbformat": 4,
 "nbformat_minor": 2
}
